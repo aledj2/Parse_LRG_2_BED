{
 "metadata": {
  "name": ""
 },
 "nbformat": 3,
 "nbformat_minor": 0,
 "worksheets": [
  {
   "cells": [
    {
     "cell_type": "code",
     "collapsed": false,
     "input": [
      "import xml.etree.ElementTree as etree\n",
      "tree = etree.parse('LRG_292.xml')\n",
      "root = tree.getroot()\n",
      "n=0\n",
      "for id in root.iter('id'):\n",
      "    filt=id.text\n",
      "    print filt\n",
      "\n",
      "print \"Root\",root.attrib\n",
      "for child in root:\n",
      "    if child.tag =='fixed_annotation':\n",
      "        print \"\\t tag=\", child.tag \n",
      "        for gchild in child:\n",
      "           # print \"\\t\\t tag=\", gchild.tag\n",
      "            for ggchild in gchild:\n",
      "                if ggchild.tag=='exon':\n",
      "                    n=n+1\n",
      "                    #print \"\\t\\t\\t tag=\", ggchild.tag\n",
      "                    for gggchild in ggchild:\n",
      "                        if gggchild.attrib['coord_system'] == filt:\n",
      "                            #print \"\\t\\t\\t\\t tag=\", gggchild.tag  \n",
      "                            #print \"\\t\\t\\t\\t\", gggchild.attrib\n",
      "                            #print \"\\t\\t\\t\\t start=\", gggchild.attrib ['start']\n",
      "                            #print \"\\t\\t\\t\\t stop=\", gggchild.attrib ['end']\n",
      "                            exon_start=gggchild.attrib ['start']\n",
      "                            exon_end=gggchild.attrib ['end']\n",
      "                            print ggchild.attrib['label'], exon_start, exon_end\n",
      "                        \n",
      "print \"number of exons:\",n\n"
     ],
     "language": "python",
     "metadata": {},
     "outputs": [
      {
       "output_type": "stream",
       "stream": "stdout",
       "text": [
        "LRG_292\n",
        "Root {'schema_version': '1.8'}\n",
        "\t tag= fixed_annotation\n",
        "1 92501 92713\n",
        "2 93869 93967\n",
        "3 102205 102258\n",
        "4 111451 111528\n",
        "5 113028 113116\n",
        "6 113723 113862\n",
        "7 118104 118209\n",
        "8 120695 120740\n",
        "9 122062 122138\n",
        "10 123124 126549\n",
        "11 126952 127040\n",
        "12 135409 135580\n",
        "13 141370 141496\n",
        "14 143463 143653\n",
        "15 146746 147056\n",
        "16 150289 150376\n",
        "17 154033 154110\n",
        "18 154611 154651\n",
        "19 160849 160932\n",
        "20 166867 166921\n",
        "21 168790 168863\n",
        "22 170281 170341\n",
        "23 172182 173689\n",
        "number of exons: 23\n"
       ]
      }
     ],
     "prompt_number": 39
    },
    {
     "cell_type": "code",
     "collapsed": false,
     "input": [],
     "language": "python",
     "metadata": {},
     "outputs": []
    }
   ],
   "metadata": {}
  }
 ]
}